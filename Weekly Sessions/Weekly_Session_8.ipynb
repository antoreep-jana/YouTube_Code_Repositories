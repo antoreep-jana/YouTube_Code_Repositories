{
  "nbformat": 4,
  "nbformat_minor": 0,
  "metadata": {
    "colab": {
      "name": "Weekly Session #8",
      "provenance": [],
      "collapsed_sections": [],
      "authorship_tag": "ABX9TyOVhNfocF7y2KFYOcRQGkEz",
      "include_colab_link": true
    },
    "kernelspec": {
      "name": "python3",
      "display_name": "Python 3"
    },
    "language_info": {
      "name": "python"
    }
  },
  "cells": [
    {
      "cell_type": "markdown",
      "metadata": {
        "id": "view-in-github",
        "colab_type": "text"
      },
      "source": [
        "<a href=\"https://colab.research.google.com/github/antoreep-jana/YouTube_Code_Repositories/blob/main/Weekly%20Sessions/Weekly_Session_8.ipynb\" target=\"_parent\"><img src=\"https://colab.research.google.com/assets/colab-badge.svg\" alt=\"Open In Colab\"/></a>"
      ]
    },
    {
      "cell_type": "code",
      "metadata": {
        "id": "j0xhHsqXh341"
      },
      "source": [
        ""
      ],
      "execution_count": null,
      "outputs": []
    },
    {
      "cell_type": "markdown",
      "metadata": {
        "id": "niQCjHlviVnZ"
      },
      "source": [
        "### Semi-Supervised Training"
      ]
    },
    {
      "cell_type": "code",
      "metadata": {
        "colab": {
          "base_uri": "https://localhost:8080/"
        },
        "id": "eR-p7YkJc12F",
        "outputId": "01e0eed2-5f3b-4d97-bb37-f92fe47ca151"
      },
      "source": [
        "!wget https://raw.githubusercontent.com/sbussmann/kaggle-mnist/master/Data/train.csv\n",
        "!wget https://raw.githubusercontent.com/sbussmann/kaggle-mnist/master/Data/test.csv"
      ],
      "execution_count": null,
      "outputs": [
        {
          "output_type": "stream",
          "text": [
            "--2021-07-28 14:30:46--  https://raw.githubusercontent.com/sbussmann/kaggle-mnist/master/Data/train.csv\n",
            "Resolving raw.githubusercontent.com (raw.githubusercontent.com)... 185.199.108.133, 185.199.109.133, 185.199.110.133, ...\n",
            "Connecting to raw.githubusercontent.com (raw.githubusercontent.com)|185.199.108.133|:443... connected.\n",
            "HTTP request sent, awaiting response... 200 OK\n",
            "Length: 76775041 (73M) [text/plain]\n",
            "Saving to: ‘train.csv’\n",
            "\n",
            "train.csv           100%[===================>]  73.22M   234MB/s    in 0.3s    \n",
            "\n",
            "2021-07-28 14:30:50 (234 MB/s) - ‘train.csv’ saved [76775041/76775041]\n",
            "\n",
            "--2021-07-28 14:30:50--  https://raw.githubusercontent.com/sbussmann/kaggle-mnist/master/Data/test.csv\n",
            "Resolving raw.githubusercontent.com (raw.githubusercontent.com)... 185.199.108.133, 185.199.110.133, 185.199.111.133, ...\n",
            "Connecting to raw.githubusercontent.com (raw.githubusercontent.com)|185.199.108.133|:443... connected.\n",
            "HTTP request sent, awaiting response... 200 OK\n",
            "Length: 51118296 (49M) [text/plain]\n",
            "Saving to: ‘test.csv’\n",
            "\n",
            "test.csv            100%[===================>]  48.75M   224MB/s    in 0.2s    \n",
            "\n",
            "2021-07-28 14:30:52 (224 MB/s) - ‘test.csv’ saved [51118296/51118296]\n",
            "\n"
          ],
          "name": "stdout"
        }
      ]
    },
    {
      "cell_type": "code",
      "metadata": {
        "id": "QyvyhU73dVMd"
      },
      "source": [
        ""
      ],
      "execution_count": null,
      "outputs": []
    },
    {
      "cell_type": "code",
      "metadata": {
        "id": "Mm1AYHGAd1m0"
      },
      "source": [
        ""
      ],
      "execution_count": null,
      "outputs": []
    },
    {
      "cell_type": "code",
      "metadata": {
        "id": "Frf2x1u2iX2x",
        "colab": {
          "base_uri": "https://localhost:8080/"
        },
        "outputId": "f940ca39-ad06-4c91-c824-1a240035078f"
      },
      "source": [
        "import pandas as pd\n",
        "\n",
        "train_data = pd.read_csv('/content/train.csv')\n",
        "test_data = pd.read_csv('/content/test.csv')\n",
        "\n",
        "IMG_SIZE = 28\n",
        "\n",
        "from tensorflow.keras.utils import to_categorical\n",
        "img_train = train_data.drop([\"label\"], axis=1).values.reshape(-1, IMG_SIZE, IMG_SIZE, 1).astype('float32')\n",
        "img_label = to_categorical(train_data[\"label\"])\n",
        "\n",
        "img_test = test_data.values.reshape(-1, IMG_SIZE, IMG_SIZE, 1).astype('float32')\n",
        "\n",
        "print(\"img_train.shape = \", img_train.shape)\n",
        "print(\"img_label.shape = \", img_label.shape)\n",
        "print(\"img_test.shape = \", img_test.shape)\n",
        "\n",
        "\n",
        "from sklearn.model_selection import train_test_split\n",
        "\n",
        "x_train, x_test, y_train, y_test = train_test_split(img_train, img_label, test_size=0.15)\n",
        "print(\"x_train.shape = \", x_train.shape)\n",
        "print(\"y_train.shape = \", y_train.shape)\n",
        "print(\"x_test.shape = \", x_test.shape)\n",
        "print(\"y_test.shape = \", y_test.shape)"
      ],
      "execution_count": null,
      "outputs": [
        {
          "output_type": "stream",
          "text": [
            "img_train.shape =  (42000, 28, 28, 1)\n",
            "img_label.shape =  (42000, 10)\n",
            "img_test.shape =  (28000, 28, 28, 1)\n",
            "x_train.shape =  (35700, 28, 28, 1)\n",
            "y_train.shape =  (35700, 10)\n",
            "x_test.shape =  (6300, 28, 28, 1)\n",
            "y_test.shape =  (6300, 10)\n"
          ],
          "name": "stdout"
        }
      ]
    },
    {
      "cell_type": "code",
      "metadata": {
        "id": "FILbfCl9cxkR"
      },
      "source": [
        ""
      ],
      "execution_count": null,
      "outputs": []
    },
    {
      "cell_type": "code",
      "metadata": {
        "id": "MawmZzRcsZoS"
      },
      "source": [
        "import keras\n",
        "from keras.datasets import mnist\n",
        "from keras.layers import Input, Dense, Dropout, Flatten, add\n",
        "from keras.layers import Conv2D, Activation, MaxPooling2D, AveragePooling2D, BatchNormalization\n",
        "from keras import backend as K\n",
        "from keras.callbacks import ModelCheckpoint\n",
        "import tensorflow as tf\n",
        "from keras.models import Model\n",
        "from tensorflow.keras.utils import plot_model\n",
        "from keras.preprocessing. image import ImageDataGenerator\n",
        "from keras.callbacks import ModelCheckpoint\n",
        "from keras.optimizers import Adam\n",
        "from keras.preprocessing.image import ImageDataGenerator\n",
        "from keras.layers import Input, Dense, PReLU, Dropout\n",
        "from keras.models import Model\n",
        "from keras.callbacks import LearningRateScheduler, ModelCheckpoint, TensorBoard, EarlyStopping, ReduceLROnPlateau\n",
        "from keras.optimizers import SGD, Adam"
      ],
      "execution_count": null,
      "outputs": []
    },
    {
      "cell_type": "code",
      "metadata": {
        "id": "Bm9T8WiJsZk-"
      },
      "source": [
        "def build_model(input_shape = (28,28,1), classes = 10):\n",
        "\n",
        "  input_layer = Input(shape=input_shape)\n",
        "  x = Conv2D(16, (3,3), strides=1, padding=\"same\", name=\"conv1\")(input_layer)\n",
        "  x = BatchNormalization(momentum=0.1, epsilon=1e-5, gamma_initializer=\"uniform\", name=\"batch1\")(x)\n",
        "  x = Activation('relu',name='relu1')(x)\n",
        "  x = Dropout(0.1)(x)\n",
        "    \n",
        "  x = Conv2D(32, (3,3), strides=1, padding=\"same\", name=\"conv2\")(x)\n",
        "  x = BatchNormalization(momentum=0.15, epsilon=1e-5, gamma_initializer=\"uniform\", name=\"batch2\")(x)\n",
        "  x = Activation('relu',name='relu2')(x)\n",
        "  x = Dropout(0.15)(x)\n",
        "  x = MaxPooling2D(pool_size=2, strides=2, padding=\"same\", name=\"max2\")(x)\n",
        "    \n",
        "  x = Conv2D(64, (5,5), strides=1, padding =\"same\", name=\"conv3\")(x)\n",
        "  x = BatchNormalization(momentum=0.17, epsilon=1e-5, gamma_initializer=\"uniform\", name=\"batch3\")(x)\n",
        "  x = Activation('relu', name=\"relu3\")(x)\n",
        "  x = MaxPooling2D(pool_size=2, strides=2, padding=\"same\", name=\"max3\")(x)\n",
        "    \n",
        "  x = Conv2D(128, (5,5), strides=1, padding=\"same\", name=\"conv4\")(x)\n",
        "  x = BatchNormalization(momentum=0.15, epsilon=1e-5, gamma_initializer=\"uniform\", name=\"batch4\")(x)\n",
        "  x = Activation('relu', name=\"relu4\")(x)\n",
        "  x = Dropout(0.17)(x)\n",
        "    \n",
        "  x = Conv2D(64, (3,3), strides=1, padding=\"same\", name=\"conv5\")(x)\n",
        "  x = BatchNormalization(momentum=0.15, epsilon=1e-5, gamma_initializer=\"uniform\", name=\"batch5\")(x)\n",
        "  x = Activation('relu', name='relu5')(x)\n",
        "  x = Dropout(0.2)(x)\n",
        "    \n",
        "  x = Conv2D(32, (3,3), strides=1, padding=\"same\", name=\"conv6\")(x)\n",
        "  x = BatchNormalization(momentum=0.15, epsilon=1e-5, gamma_initializer=\"uniform\", name=\"batch6\" )(x)\n",
        "    \n",
        "  x = Activation('relu', name=\"relu6\")(x)\n",
        "  x = Dropout(0.05)(x)\n",
        "    \n",
        "  x = Flatten()(x)\n",
        "  x = Dense(50, name=\"Dense1\")(x)\n",
        "  x = Activation('relu', name='relu7')(x)\n",
        "  x = Dropout(0.05)(x)\n",
        "  x = Dense(25, name=\"Dense2\")(x)\n",
        "  x = Activation('relu', name='relu8')(x)\n",
        "  x = Dropout(0.03)(x)\n",
        "  x = Dense(classes, name=\"Dense3\")(x)\n",
        "  x = Activation('softmax')(x)\n",
        "\n",
        "  model = Model(inputs=input_layer, outputs=x)\n",
        "  return model\n",
        "\n"
      ],
      "execution_count": null,
      "outputs": []
    },
    {
      "cell_type": "code",
      "metadata": {
        "id": "YcQXhFi7sZdA"
      },
      "source": [
        "model = build_model(input_shape = (28,28,1), classes = 10)"
      ],
      "execution_count": null,
      "outputs": []
    },
    {
      "cell_type": "code",
      "metadata": {
        "id": "MvY4EHGe7dG1"
      },
      "source": [
        ""
      ],
      "execution_count": null,
      "outputs": []
    },
    {
      "cell_type": "code",
      "metadata": {
        "id": "uPfG8PN37dEm",
        "colab": {
          "base_uri": "https://localhost:8080/"
        },
        "outputId": "a0fcc1af-b663-4f9a-9b62-b5ff03275398"
      },
      "source": [
        "train_datagen = ImageDataGenerator(\n",
        "    \n",
        "    rotation_range = 9, \n",
        "    zoom_range = 0.25, \n",
        "    width_shift_range = 0.25, \n",
        "    height_shift_range = 0.25, \n",
        "    rescale = 1./255\n",
        ")\n",
        "\n",
        "\n",
        "train_datagen.fit(x_train)\n",
        "\n",
        "test_datagen = ImageDataGenerator(rescale = 1./255)\n",
        "\n",
        "\n",
        "adam = Adam(lr = 0.002, beta_1 = 0.9, beta_2 = 0.999, epsilon = None, decay = 0.0, amsgrad = False)\n",
        "sgd = SGD(lr = 0.01, momentum = 0.0, decay = 0.0, nesterov = False)\n",
        "learning_rate_reduction = ReduceLROnPlateau(monitor = 'val_loss', patience= 5, verbose = 1, factor = 0.5, min_lr = 0.00001)\n",
        "checkpoint = ModelCheckpoint(\"bestmodel.model\", monitor = 'val_acc', verbose = 1, save_best_only = True )\n",
        "earlyStopping = EarlyStopping(monitor = 'val_acc', patience = 15, verbose = 1, mode = 'min')"
      ],
      "execution_count": null,
      "outputs": [
        {
          "output_type": "stream",
          "text": [
            "/usr/local/lib/python3.7/dist-packages/tensorflow/python/keras/optimizer_v2/optimizer_v2.py:375: UserWarning: The `lr` argument is deprecated, use `learning_rate` instead.\n",
            "  \"The `lr` argument is deprecated, use `learning_rate` instead.\")\n"
          ],
          "name": "stderr"
        }
      ]
    },
    {
      "cell_type": "code",
      "metadata": {
        "colab": {
          "base_uri": "https://localhost:8080/",
          "height": 1000
        },
        "id": "xirLlGhIayb-",
        "outputId": "46593cb4-d79a-486f-e70c-1efd5c5bc7b1"
      },
      "source": [
        "model.compile(loss = 'categorical_crossentropy', optimizer = sgd, metrics = ['acc'])\n",
        "epochs = 80\n",
        "batch_size = 128\n",
        "\n",
        "\n",
        "history = model.fit_generator(\n",
        "    train_datagen.flow(x_train, y_train, batch_size = batch_size),\n",
        "    steps_per_epoch = x_train.shape[0] // batch_size, \n",
        "    epochs = epochs, \n",
        "    validation_data = test_datagen.flow(x_test, y_test),\n",
        "    validation_steps = x_test.shape[0] // batch_size, \n",
        "    callbacks = [checkpoint, learning_rate_reduction]\n",
        ")"
      ],
      "execution_count": null,
      "outputs": [
        {
          "output_type": "stream",
          "text": [
            "/usr/local/lib/python3.7/dist-packages/keras/engine/training.py:1915: UserWarning: `Model.fit_generator` is deprecated and will be removed in a future version. Please use `Model.fit`, which supports generators.\n",
            "  warnings.warn('`Model.fit_generator` is deprecated and '\n"
          ],
          "name": "stderr"
        },
        {
          "output_type": "stream",
          "text": [
            "Epoch 1/80\n",
            "278/278 [==============================] - 61s 46ms/step - loss: 2.3005 - acc: 0.1316 - val_loss: 2.2836 - val_acc: 0.2009\n",
            "\n",
            "Epoch 00001: val_acc improved from -inf to 0.20089, saving model to bestmodel.model\n",
            "INFO:tensorflow:Assets written to: bestmodel.model/assets\n",
            "Epoch 2/80\n",
            "278/278 [==============================] - 11s 41ms/step - loss: 2.2673 - acc: 0.2041 - val_loss: 2.0918 - val_acc: 0.2143\n",
            "\n",
            "Epoch 00002: val_acc improved from 0.20089 to 0.21429, saving model to bestmodel.model\n",
            "INFO:tensorflow:Assets written to: bestmodel.model/assets\n",
            "Epoch 3/80\n",
            "278/278 [==============================] - 11s 40ms/step - loss: 2.0315 - acc: 0.2495 - val_loss: 1.4830 - val_acc: 0.4726\n",
            "\n",
            "Epoch 00003: val_acc improved from 0.21429 to 0.47258, saving model to bestmodel.model\n",
            "INFO:tensorflow:Assets written to: bestmodel.model/assets\n",
            "Epoch 4/80\n",
            "278/278 [==============================] - 13s 46ms/step - loss: 1.4395 - acc: 0.4959 - val_loss: 0.7676 - val_acc: 0.7188\n",
            "\n",
            "Epoch 00004: val_acc improved from 0.47258 to 0.71875, saving model to bestmodel.model\n",
            "INFO:tensorflow:Assets written to: bestmodel.model/assets\n",
            "Epoch 5/80\n",
            "278/278 [==============================] - 12s 43ms/step - loss: 0.8055 - acc: 0.7529 - val_loss: 0.4224 - val_acc: 0.8680\n",
            "\n",
            "Epoch 00005: val_acc improved from 0.71875 to 0.86798, saving model to bestmodel.model\n",
            "INFO:tensorflow:Assets written to: bestmodel.model/assets\n",
            "Epoch 6/80\n",
            "278/278 [==============================] - 11s 40ms/step - loss: 0.4573 - acc: 0.8684 - val_loss: 0.2621 - val_acc: 0.9286\n",
            "\n",
            "Epoch 00006: val_acc improved from 0.86798 to 0.92857, saving model to bestmodel.model\n",
            "INFO:tensorflow:Assets written to: bestmodel.model/assets\n",
            "Epoch 7/80\n",
            "278/278 [==============================] - 12s 44ms/step - loss: 0.3410 - acc: 0.9018 - val_loss: 0.1990 - val_acc: 0.9458\n",
            "\n",
            "Epoch 00007: val_acc improved from 0.92857 to 0.94579, saving model to bestmodel.model\n",
            "INFO:tensorflow:Assets written to: bestmodel.model/assets\n",
            "Epoch 8/80\n",
            "278/278 [==============================] - 13s 46ms/step - loss: 0.2715 - acc: 0.9201 - val_loss: 0.0891 - val_acc: 0.9739\n",
            "\n",
            "Epoch 00008: val_acc improved from 0.94579 to 0.97385, saving model to bestmodel.model\n",
            "INFO:tensorflow:Assets written to: bestmodel.model/assets\n",
            "Epoch 9/80\n",
            "278/278 [==============================] - 12s 42ms/step - loss: 0.2347 - acc: 0.9355 - val_loss: 0.0643 - val_acc: 0.9828\n",
            "\n",
            "Epoch 00009: val_acc improved from 0.97385 to 0.98278, saving model to bestmodel.model\n",
            "INFO:tensorflow:Assets written to: bestmodel.model/assets\n",
            "Epoch 10/80\n",
            "278/278 [==============================] - 11s 41ms/step - loss: 0.2083 - acc: 0.9421 - val_loss: 0.0670 - val_acc: 0.9821\n",
            "\n",
            "Epoch 00010: val_acc did not improve from 0.98278\n",
            "Epoch 11/80\n",
            "278/278 [==============================] - 13s 46ms/step - loss: 0.1938 - acc: 0.9459 - val_loss: 0.0663 - val_acc: 0.9815\n",
            "\n",
            "Epoch 00011: val_acc did not improve from 0.98278\n",
            "Epoch 12/80\n",
            "278/278 [==============================] - 12s 44ms/step - loss: 0.1707 - acc: 0.9510 - val_loss: 0.0754 - val_acc: 0.9828\n",
            "\n",
            "Epoch 00012: val_acc did not improve from 0.98278\n",
            "Epoch 13/80\n",
            "278/278 [==============================] - 11s 40ms/step - loss: 0.1640 - acc: 0.9555 - val_loss: 0.0700 - val_acc: 0.9764\n",
            "\n",
            "Epoch 00013: val_acc did not improve from 0.98278\n",
            "Epoch 14/80\n",
            "278/278 [==============================] - 11s 40ms/step - loss: 0.1483 - acc: 0.9593 - val_loss: 0.0572 - val_acc: 0.9834\n",
            "\n",
            "Epoch 00014: val_acc improved from 0.98278 to 0.98342, saving model to bestmodel.model\n",
            "INFO:tensorflow:Assets written to: bestmodel.model/assets\n",
            "Epoch 15/80\n",
            "278/278 [==============================] - 12s 44ms/step - loss: 0.1430 - acc: 0.9608 - val_loss: 0.0516 - val_acc: 0.9885\n",
            "\n",
            "Epoch 00015: val_acc improved from 0.98342 to 0.98852, saving model to bestmodel.model\n",
            "INFO:tensorflow:Assets written to: bestmodel.model/assets\n",
            "Epoch 16/80\n",
            "278/278 [==============================] - 12s 45ms/step - loss: 0.1327 - acc: 0.9633 - val_loss: 0.0562 - val_acc: 0.9802\n",
            "\n",
            "Epoch 00016: val_acc did not improve from 0.98852\n",
            "Epoch 17/80\n",
            "278/278 [==============================] - 12s 41ms/step - loss: 0.1314 - acc: 0.9628 - val_loss: 0.0575 - val_acc: 0.9853\n",
            "\n",
            "Epoch 00017: val_acc did not improve from 0.98852\n",
            "Epoch 18/80\n",
            "278/278 [==============================] - 11s 39ms/step - loss: 0.1306 - acc: 0.9634 - val_loss: 0.0427 - val_acc: 0.9866\n",
            "\n",
            "Epoch 00018: val_acc did not improve from 0.98852\n",
            "Epoch 19/80\n",
            "278/278 [==============================] - 13s 46ms/step - loss: 0.1189 - acc: 0.9671 - val_loss: 0.0352 - val_acc: 0.9885\n",
            "\n",
            "Epoch 00019: val_acc did not improve from 0.98852\n",
            "Epoch 20/80\n",
            "278/278 [==============================] - 12s 44ms/step - loss: 0.1183 - acc: 0.9659 - val_loss: 0.0460 - val_acc: 0.9860\n",
            "\n",
            "Epoch 00020: val_acc did not improve from 0.98852\n",
            "Epoch 21/80\n",
            "278/278 [==============================] - 12s 44ms/step - loss: 0.1110 - acc: 0.9695 - val_loss: 0.0487 - val_acc: 0.9847\n",
            "\n",
            "Epoch 00021: val_acc did not improve from 0.98852\n",
            "Epoch 22/80\n",
            "278/278 [==============================] - 13s 46ms/step - loss: 0.1121 - acc: 0.9691 - val_loss: 0.0401 - val_acc: 0.9860\n",
            "\n",
            "Epoch 00022: val_acc did not improve from 0.98852\n",
            "Epoch 23/80\n",
            "278/278 [==============================] - 11s 41ms/step - loss: 0.1084 - acc: 0.9691 - val_loss: 0.0303 - val_acc: 0.9885\n",
            "\n",
            "Epoch 00023: val_acc did not improve from 0.98852\n",
            "Epoch 24/80\n",
            "278/278 [==============================] - 11s 41ms/step - loss: 0.1053 - acc: 0.9702 - val_loss: 0.0278 - val_acc: 0.9930\n",
            "\n",
            "Epoch 00024: val_acc improved from 0.98852 to 0.99298, saving model to bestmodel.model\n",
            "INFO:tensorflow:Assets written to: bestmodel.model/assets\n",
            "Epoch 25/80\n",
            "278/278 [==============================] - 12s 43ms/step - loss: 0.1013 - acc: 0.9716 - val_loss: 0.0412 - val_acc: 0.9898\n",
            "\n",
            "Epoch 00025: val_acc did not improve from 0.99298\n",
            "Epoch 26/80\n",
            "278/278 [==============================] - 12s 45ms/step - loss: 0.0997 - acc: 0.9717 - val_loss: 0.0471 - val_acc: 0.9879\n",
            "\n",
            "Epoch 00026: val_acc did not improve from 0.99298\n",
            "Epoch 27/80\n",
            "278/278 [==============================] - 11s 41ms/step - loss: 0.0972 - acc: 0.9730 - val_loss: 0.0529 - val_acc: 0.9879\n",
            "\n",
            "Epoch 00027: val_acc did not improve from 0.99298\n",
            "Epoch 28/80\n",
            "278/278 [==============================] - 11s 40ms/step - loss: 0.0934 - acc: 0.9746 - val_loss: 0.0488 - val_acc: 0.9860\n",
            "\n",
            "Epoch 00028: val_acc did not improve from 0.99298\n",
            "Epoch 29/80\n",
            "278/278 [==============================] - 12s 45ms/step - loss: 0.0864 - acc: 0.9764 - val_loss: 0.0440 - val_acc: 0.9860\n",
            "\n",
            "Epoch 00029: val_acc did not improve from 0.99298\n",
            "\n",
            "Epoch 00029: ReduceLROnPlateau reducing learning rate to 0.004999999888241291.\n",
            "Epoch 30/80\n",
            "278/278 [==============================] - 12s 43ms/step - loss: 0.0783 - acc: 0.9766 - val_loss: 0.0181 - val_acc: 0.9923\n",
            "\n",
            "Epoch 00030: val_acc did not improve from 0.99298\n",
            "Epoch 31/80\n",
            "278/278 [==============================] - 11s 40ms/step - loss: 0.0707 - acc: 0.9797 - val_loss: 0.0327 - val_acc: 0.9879\n",
            "\n",
            "Epoch 00031: val_acc did not improve from 0.99298\n",
            "Epoch 32/80\n",
            "278/278 [==============================] - 11s 40ms/step - loss: 0.0853 - acc: 0.9769 - val_loss: 0.0255 - val_acc: 0.9911\n",
            "\n",
            "Epoch 00032: val_acc did not improve from 0.99298\n",
            "Epoch 33/80\n",
            "278/278 [==============================] - 12s 41ms/step - loss: 0.0729 - acc: 0.9802 - val_loss: 0.0534 - val_acc: 0.9860\n",
            "\n",
            "Epoch 00033: val_acc did not improve from 0.99298\n",
            "Epoch 34/80\n",
            "278/278 [==============================] - 13s 45ms/step - loss: 0.0796 - acc: 0.9787 - val_loss: 0.0417 - val_acc: 0.9853\n",
            "\n",
            "Epoch 00034: val_acc did not improve from 0.99298\n",
            "Epoch 35/80\n",
            "278/278 [==============================] - 11s 40ms/step - loss: 0.0698 - acc: 0.9803 - val_loss: 0.0255 - val_acc: 0.9917\n",
            "\n",
            "Epoch 00035: val_acc did not improve from 0.99298\n",
            "\n",
            "Epoch 00035: ReduceLROnPlateau reducing learning rate to 0.0024999999441206455.\n",
            "Epoch 36/80\n",
            "278/278 [==============================] - 11s 40ms/step - loss: 0.0721 - acc: 0.9796 - val_loss: 0.0556 - val_acc: 0.9853\n",
            "\n",
            "Epoch 00036: val_acc did not improve from 0.99298\n",
            "Epoch 37/80\n",
            "278/278 [==============================] - 11s 40ms/step - loss: 0.0725 - acc: 0.9801 - val_loss: 0.0276 - val_acc: 0.9904\n",
            "\n",
            "Epoch 00037: val_acc did not improve from 0.99298\n",
            "Epoch 38/80\n",
            "  3/278 [..............................] - ETA: 11s - loss: 0.1021 - acc: 0.9779"
          ],
          "name": "stdout"
        },
        {
          "output_type": "stream",
          "text": [
            "Exception ignored in: <function IteratorResourceDeleter.__del__ at 0x7fdb1ac80b90>\n",
            "Traceback (most recent call last):\n",
            "  File \"/usr/local/lib/python3.7/dist-packages/tensorflow/python/data/ops/iterator_ops.py\", line 546, in __del__\n",
            "    handle=self._handle, deleter=self._deleter)\n",
            "  File \"/usr/local/lib/python3.7/dist-packages/tensorflow/python/ops/gen_dataset_ops.py\", line 1264, in delete_iterator\n",
            "    _ctx, \"DeleteIterator\", name, handle, deleter)\n",
            "KeyboardInterrupt: \n"
          ],
          "name": "stderr"
        },
        {
          "output_type": "stream",
          "text": [
            " 16/278 [>.............................] - ETA: 11s - loss: 0.0846 - acc: 0.9780"
          ],
          "name": "stdout"
        },
        {
          "output_type": "error",
          "ename": "KeyboardInterrupt",
          "evalue": "ignored",
          "traceback": [
            "\u001b[0;31m---------------------------------------------------------------------------\u001b[0m",
            "\u001b[0;31mKeyboardInterrupt\u001b[0m                         Traceback (most recent call last)",
            "\u001b[0;32m<ipython-input-7-ed309ddb868a>\u001b[0m in \u001b[0;36m<module>\u001b[0;34m()\u001b[0m\n\u001b[1;32m     10\u001b[0m     \u001b[0mvalidation_data\u001b[0m \u001b[0;34m=\u001b[0m \u001b[0mtest_datagen\u001b[0m\u001b[0;34m.\u001b[0m\u001b[0mflow\u001b[0m\u001b[0;34m(\u001b[0m\u001b[0mx_test\u001b[0m\u001b[0;34m,\u001b[0m \u001b[0my_test\u001b[0m\u001b[0;34m)\u001b[0m\u001b[0;34m,\u001b[0m\u001b[0;34m\u001b[0m\u001b[0;34m\u001b[0m\u001b[0m\n\u001b[1;32m     11\u001b[0m     \u001b[0mvalidation_steps\u001b[0m \u001b[0;34m=\u001b[0m \u001b[0mx_test\u001b[0m\u001b[0;34m.\u001b[0m\u001b[0mshape\u001b[0m\u001b[0;34m[\u001b[0m\u001b[0;36m0\u001b[0m\u001b[0;34m]\u001b[0m \u001b[0;34m//\u001b[0m \u001b[0mbatch_size\u001b[0m\u001b[0;34m,\u001b[0m\u001b[0;34m\u001b[0m\u001b[0;34m\u001b[0m\u001b[0m\n\u001b[0;32m---> 12\u001b[0;31m     \u001b[0mcallbacks\u001b[0m \u001b[0;34m=\u001b[0m \u001b[0;34m[\u001b[0m\u001b[0mcheckpoint\u001b[0m\u001b[0;34m,\u001b[0m \u001b[0mlearning_rate_reduction\u001b[0m\u001b[0;34m]\u001b[0m\u001b[0;34m\u001b[0m\u001b[0;34m\u001b[0m\u001b[0m\n\u001b[0m\u001b[1;32m     13\u001b[0m )\n",
            "\u001b[0;32m/usr/local/lib/python3.7/dist-packages/keras/engine/training.py\u001b[0m in \u001b[0;36mfit_generator\u001b[0;34m(self, generator, steps_per_epoch, epochs, verbose, callbacks, validation_data, validation_steps, validation_freq, class_weight, max_queue_size, workers, use_multiprocessing, shuffle, initial_epoch)\u001b[0m\n\u001b[1;32m   1930\u001b[0m         \u001b[0muse_multiprocessing\u001b[0m\u001b[0;34m=\u001b[0m\u001b[0muse_multiprocessing\u001b[0m\u001b[0;34m,\u001b[0m\u001b[0;34m\u001b[0m\u001b[0;34m\u001b[0m\u001b[0m\n\u001b[1;32m   1931\u001b[0m         \u001b[0mshuffle\u001b[0m\u001b[0;34m=\u001b[0m\u001b[0mshuffle\u001b[0m\u001b[0;34m,\u001b[0m\u001b[0;34m\u001b[0m\u001b[0;34m\u001b[0m\u001b[0m\n\u001b[0;32m-> 1932\u001b[0;31m         initial_epoch=initial_epoch)\n\u001b[0m\u001b[1;32m   1933\u001b[0m \u001b[0;34m\u001b[0m\u001b[0m\n\u001b[1;32m   1934\u001b[0m   def evaluate_generator(self,\n",
            "\u001b[0;32m/usr/local/lib/python3.7/dist-packages/keras/engine/training.py\u001b[0m in \u001b[0;36mfit\u001b[0;34m(self, x, y, batch_size, epochs, verbose, callbacks, validation_split, validation_data, shuffle, class_weight, sample_weight, initial_epoch, steps_per_epoch, validation_steps, validation_batch_size, validation_freq, max_queue_size, workers, use_multiprocessing)\u001b[0m\n\u001b[1;32m   1156\u001b[0m                 _r=1):\n\u001b[1;32m   1157\u001b[0m               \u001b[0mcallbacks\u001b[0m\u001b[0;34m.\u001b[0m\u001b[0mon_train_batch_begin\u001b[0m\u001b[0;34m(\u001b[0m\u001b[0mstep\u001b[0m\u001b[0;34m)\u001b[0m\u001b[0;34m\u001b[0m\u001b[0;34m\u001b[0m\u001b[0m\n\u001b[0;32m-> 1158\u001b[0;31m               \u001b[0mtmp_logs\u001b[0m \u001b[0;34m=\u001b[0m \u001b[0mself\u001b[0m\u001b[0;34m.\u001b[0m\u001b[0mtrain_function\u001b[0m\u001b[0;34m(\u001b[0m\u001b[0miterator\u001b[0m\u001b[0;34m)\u001b[0m\u001b[0;34m\u001b[0m\u001b[0;34m\u001b[0m\u001b[0m\n\u001b[0m\u001b[1;32m   1159\u001b[0m               \u001b[0;32mif\u001b[0m \u001b[0mdata_handler\u001b[0m\u001b[0;34m.\u001b[0m\u001b[0mshould_sync\u001b[0m\u001b[0;34m:\u001b[0m\u001b[0;34m\u001b[0m\u001b[0;34m\u001b[0m\u001b[0m\n\u001b[1;32m   1160\u001b[0m                 \u001b[0mcontext\u001b[0m\u001b[0;34m.\u001b[0m\u001b[0masync_wait\u001b[0m\u001b[0;34m(\u001b[0m\u001b[0;34m)\u001b[0m\u001b[0;34m\u001b[0m\u001b[0;34m\u001b[0m\u001b[0m\n",
            "\u001b[0;32m/usr/local/lib/python3.7/dist-packages/tensorflow/python/eager/def_function.py\u001b[0m in \u001b[0;36m__call__\u001b[0;34m(self, *args, **kwds)\u001b[0m\n\u001b[1;32m    887\u001b[0m \u001b[0;34m\u001b[0m\u001b[0m\n\u001b[1;32m    888\u001b[0m       \u001b[0;32mwith\u001b[0m \u001b[0mOptionalXlaContext\u001b[0m\u001b[0;34m(\u001b[0m\u001b[0mself\u001b[0m\u001b[0;34m.\u001b[0m\u001b[0m_jit_compile\u001b[0m\u001b[0;34m)\u001b[0m\u001b[0;34m:\u001b[0m\u001b[0;34m\u001b[0m\u001b[0;34m\u001b[0m\u001b[0m\n\u001b[0;32m--> 889\u001b[0;31m         \u001b[0mresult\u001b[0m \u001b[0;34m=\u001b[0m \u001b[0mself\u001b[0m\u001b[0;34m.\u001b[0m\u001b[0m_call\u001b[0m\u001b[0;34m(\u001b[0m\u001b[0;34m*\u001b[0m\u001b[0margs\u001b[0m\u001b[0;34m,\u001b[0m \u001b[0;34m**\u001b[0m\u001b[0mkwds\u001b[0m\u001b[0;34m)\u001b[0m\u001b[0;34m\u001b[0m\u001b[0;34m\u001b[0m\u001b[0m\n\u001b[0m\u001b[1;32m    890\u001b[0m \u001b[0;34m\u001b[0m\u001b[0m\n\u001b[1;32m    891\u001b[0m       \u001b[0mnew_tracing_count\u001b[0m \u001b[0;34m=\u001b[0m \u001b[0mself\u001b[0m\u001b[0;34m.\u001b[0m\u001b[0mexperimental_get_tracing_count\u001b[0m\u001b[0;34m(\u001b[0m\u001b[0;34m)\u001b[0m\u001b[0;34m\u001b[0m\u001b[0;34m\u001b[0m\u001b[0m\n",
            "\u001b[0;32m/usr/local/lib/python3.7/dist-packages/tensorflow/python/eager/def_function.py\u001b[0m in \u001b[0;36m_call\u001b[0;34m(self, *args, **kwds)\u001b[0m\n\u001b[1;32m    915\u001b[0m       \u001b[0;31m# In this case we have created variables on the first call, so we run the\u001b[0m\u001b[0;34m\u001b[0m\u001b[0;34m\u001b[0m\u001b[0;34m\u001b[0m\u001b[0m\n\u001b[1;32m    916\u001b[0m       \u001b[0;31m# defunned version which is guaranteed to never create variables.\u001b[0m\u001b[0;34m\u001b[0m\u001b[0;34m\u001b[0m\u001b[0;34m\u001b[0m\u001b[0m\n\u001b[0;32m--> 917\u001b[0;31m       \u001b[0;32mreturn\u001b[0m \u001b[0mself\u001b[0m\u001b[0;34m.\u001b[0m\u001b[0m_stateless_fn\u001b[0m\u001b[0;34m(\u001b[0m\u001b[0;34m*\u001b[0m\u001b[0margs\u001b[0m\u001b[0;34m,\u001b[0m \u001b[0;34m**\u001b[0m\u001b[0mkwds\u001b[0m\u001b[0;34m)\u001b[0m  \u001b[0;31m# pylint: disable=not-callable\u001b[0m\u001b[0;34m\u001b[0m\u001b[0;34m\u001b[0m\u001b[0m\n\u001b[0m\u001b[1;32m    918\u001b[0m     \u001b[0;32melif\u001b[0m \u001b[0mself\u001b[0m\u001b[0;34m.\u001b[0m\u001b[0m_stateful_fn\u001b[0m \u001b[0;32mis\u001b[0m \u001b[0;32mnot\u001b[0m \u001b[0;32mNone\u001b[0m\u001b[0;34m:\u001b[0m\u001b[0;34m\u001b[0m\u001b[0;34m\u001b[0m\u001b[0m\n\u001b[1;32m    919\u001b[0m       \u001b[0;31m# Release the lock early so that multiple threads can perform the call\u001b[0m\u001b[0;34m\u001b[0m\u001b[0;34m\u001b[0m\u001b[0;34m\u001b[0m\u001b[0m\n",
            "\u001b[0;32m/usr/local/lib/python3.7/dist-packages/tensorflow/python/eager/function.py\u001b[0m in \u001b[0;36m__call__\u001b[0;34m(self, *args, **kwargs)\u001b[0m\n\u001b[1;32m   3022\u001b[0m        filtered_flat_args) = self._maybe_define_function(args, kwargs)\n\u001b[1;32m   3023\u001b[0m     return graph_function._call_flat(\n\u001b[0;32m-> 3024\u001b[0;31m         filtered_flat_args, captured_inputs=graph_function.captured_inputs)  # pylint: disable=protected-access\n\u001b[0m\u001b[1;32m   3025\u001b[0m \u001b[0;34m\u001b[0m\u001b[0m\n\u001b[1;32m   3026\u001b[0m   \u001b[0;34m@\u001b[0m\u001b[0mproperty\u001b[0m\u001b[0;34m\u001b[0m\u001b[0;34m\u001b[0m\u001b[0m\n",
            "\u001b[0;32m/usr/local/lib/python3.7/dist-packages/tensorflow/python/eager/function.py\u001b[0m in \u001b[0;36m_call_flat\u001b[0;34m(self, args, captured_inputs, cancellation_manager)\u001b[0m\n\u001b[1;32m   1959\u001b[0m       \u001b[0;31m# No tape is watching; skip to running the function.\u001b[0m\u001b[0;34m\u001b[0m\u001b[0;34m\u001b[0m\u001b[0;34m\u001b[0m\u001b[0m\n\u001b[1;32m   1960\u001b[0m       return self._build_call_outputs(self._inference_function.call(\n\u001b[0;32m-> 1961\u001b[0;31m           ctx, args, cancellation_manager=cancellation_manager))\n\u001b[0m\u001b[1;32m   1962\u001b[0m     forward_backward = self._select_forward_and_backward_functions(\n\u001b[1;32m   1963\u001b[0m         \u001b[0margs\u001b[0m\u001b[0;34m,\u001b[0m\u001b[0;34m\u001b[0m\u001b[0;34m\u001b[0m\u001b[0m\n",
            "\u001b[0;32m/usr/local/lib/python3.7/dist-packages/tensorflow/python/eager/function.py\u001b[0m in \u001b[0;36mcall\u001b[0;34m(self, ctx, args, cancellation_manager)\u001b[0m\n\u001b[1;32m    594\u001b[0m               \u001b[0minputs\u001b[0m\u001b[0;34m=\u001b[0m\u001b[0margs\u001b[0m\u001b[0;34m,\u001b[0m\u001b[0;34m\u001b[0m\u001b[0;34m\u001b[0m\u001b[0m\n\u001b[1;32m    595\u001b[0m               \u001b[0mattrs\u001b[0m\u001b[0;34m=\u001b[0m\u001b[0mattrs\u001b[0m\u001b[0;34m,\u001b[0m\u001b[0;34m\u001b[0m\u001b[0;34m\u001b[0m\u001b[0m\n\u001b[0;32m--> 596\u001b[0;31m               ctx=ctx)\n\u001b[0m\u001b[1;32m    597\u001b[0m         \u001b[0;32melse\u001b[0m\u001b[0;34m:\u001b[0m\u001b[0;34m\u001b[0m\u001b[0;34m\u001b[0m\u001b[0m\n\u001b[1;32m    598\u001b[0m           outputs = execute.execute_with_cancellation(\n",
            "\u001b[0;32m/usr/local/lib/python3.7/dist-packages/tensorflow/python/eager/execute.py\u001b[0m in \u001b[0;36mquick_execute\u001b[0;34m(op_name, num_outputs, inputs, attrs, ctx, name)\u001b[0m\n\u001b[1;32m     58\u001b[0m     \u001b[0mctx\u001b[0m\u001b[0;34m.\u001b[0m\u001b[0mensure_initialized\u001b[0m\u001b[0;34m(\u001b[0m\u001b[0;34m)\u001b[0m\u001b[0;34m\u001b[0m\u001b[0;34m\u001b[0m\u001b[0m\n\u001b[1;32m     59\u001b[0m     tensors = pywrap_tfe.TFE_Py_Execute(ctx._handle, device_name, op_name,\n\u001b[0;32m---> 60\u001b[0;31m                                         inputs, attrs, num_outputs)\n\u001b[0m\u001b[1;32m     61\u001b[0m   \u001b[0;32mexcept\u001b[0m \u001b[0mcore\u001b[0m\u001b[0;34m.\u001b[0m\u001b[0m_NotOkStatusException\u001b[0m \u001b[0;32mas\u001b[0m \u001b[0me\u001b[0m\u001b[0;34m:\u001b[0m\u001b[0;34m\u001b[0m\u001b[0;34m\u001b[0m\u001b[0m\n\u001b[1;32m     62\u001b[0m     \u001b[0;32mif\u001b[0m \u001b[0mname\u001b[0m \u001b[0;32mis\u001b[0m \u001b[0;32mnot\u001b[0m \u001b[0;32mNone\u001b[0m\u001b[0;34m:\u001b[0m\u001b[0;34m\u001b[0m\u001b[0;34m\u001b[0m\u001b[0m\n",
            "\u001b[0;31mKeyboardInterrupt\u001b[0m: "
          ]
        }
      ]
    },
    {
      "cell_type": "markdown",
      "metadata": {
        "id": "Opt6Gyem8_Jx"
      },
      "source": [
        "Pseudo-Labelling"
      ]
    },
    {
      "cell_type": "markdown",
      "metadata": {
        "id": "AdRSjVUukP_C"
      },
      "source": [
        "1. Obtain the trained model\n",
        "2. Using the trained model, obtain predictions on the test data\n",
        "3. Assume those predictions as \"pseduo-labels\"\n",
        "4. Append the test data & pseduo-labels to the train data. \n",
        "5. Retrain your model."
      ]
    },
    {
      "cell_type": "code",
      "metadata": {
        "id": "Xzwnnx3sghlP"
      },
      "source": [
        "pseudo_labels = model.predict(x_test)\n"
      ],
      "execution_count": null,
      "outputs": []
    },
    {
      "cell_type": "code",
      "metadata": {
        "id": "OVUD8CPik7tz"
      },
      "source": [
        "import numpy as np\n",
        "\n",
        "x_new = np.concatenate([x_train, x_test])\n",
        "y_new = np.concatenate([y_train, pseudo_labels])\n"
      ],
      "execution_count": null,
      "outputs": []
    },
    {
      "cell_type": "code",
      "metadata": {
        "colab": {
          "base_uri": "https://localhost:8080/"
        },
        "id": "oRlZwbyBl4K4",
        "outputId": "ab611fca-1322-4105-d10d-e6015a178261"
      },
      "source": [
        "x_new.shape"
      ],
      "execution_count": null,
      "outputs": [
        {
          "output_type": "execute_result",
          "data": {
            "text/plain": [
              "(42000, 28, 28, 1)"
            ]
          },
          "metadata": {
            "tags": []
          },
          "execution_count": 23
        }
      ]
    },
    {
      "cell_type": "code",
      "metadata": {
        "colab": {
          "base_uri": "https://localhost:8080/"
        },
        "id": "FYTXuk0Yl74o",
        "outputId": "e69d78e5-b11a-41d8-d983-15553eda6f08"
      },
      "source": [
        "x_train.shape "
      ],
      "execution_count": null,
      "outputs": [
        {
          "output_type": "execute_result",
          "data": {
            "text/plain": [
              "(35700, 28, 28, 1)"
            ]
          },
          "metadata": {
            "tags": []
          },
          "execution_count": 24
        }
      ]
    },
    {
      "cell_type": "code",
      "metadata": {
        "colab": {
          "base_uri": "https://localhost:8080/"
        },
        "id": "dWqZjtEQl9fd",
        "outputId": "e23587e4-958c-407e-eb8e-273b74af2a64"
      },
      "source": [
        "x_test.shape"
      ],
      "execution_count": null,
      "outputs": [
        {
          "output_type": "execute_result",
          "data": {
            "text/plain": [
              "(6300, 28, 28, 1)"
            ]
          },
          "metadata": {
            "tags": []
          },
          "execution_count": 25
        }
      ]
    },
    {
      "cell_type": "code",
      "metadata": {
        "colab": {
          "base_uri": "https://localhost:8080/"
        },
        "id": "EVyUWV_Nl_iT",
        "outputId": "901c35d7-8ae7-430a-8b3c-ca36be0f3881"
      },
      "source": [
        "y_new.shape"
      ],
      "execution_count": null,
      "outputs": [
        {
          "output_type": "execute_result",
          "data": {
            "text/plain": [
              "(42000, 10)"
            ]
          },
          "metadata": {
            "tags": []
          },
          "execution_count": 26
        }
      ]
    },
    {
      "cell_type": "code",
      "metadata": {
        "colab": {
          "base_uri": "https://localhost:8080/"
        },
        "id": "NZmKpml-mBMp",
        "outputId": "756e4fad-2daa-437f-b21c-380a38973c82"
      },
      "source": [
        "y_train.shape"
      ],
      "execution_count": null,
      "outputs": [
        {
          "output_type": "execute_result",
          "data": {
            "text/plain": [
              "(35700, 10)"
            ]
          },
          "metadata": {
            "tags": []
          },
          "execution_count": 27
        }
      ]
    },
    {
      "cell_type": "code",
      "metadata": {
        "colab": {
          "base_uri": "https://localhost:8080/"
        },
        "id": "Fqf4AHEJmCOC",
        "outputId": "aed0af51-0dcf-4d63-f700-9e231fffcc4d"
      },
      "source": [
        "pseudo_labels.shape"
      ],
      "execution_count": null,
      "outputs": [
        {
          "output_type": "execute_result",
          "data": {
            "text/plain": [
              "(6300, 10)"
            ]
          },
          "metadata": {
            "tags": []
          },
          "execution_count": 28
        }
      ]
    },
    {
      "cell_type": "code",
      "metadata": {
        "id": "uIn6MwFumQUU"
      },
      "source": [
        "x1_train, x1_test, y1_train, y1_test = train_test_split(x_new, y_new, test_size = 0.15)"
      ],
      "execution_count": null,
      "outputs": []
    },
    {
      "cell_type": "code",
      "metadata": {
        "id": "5fU0L7L-mc_8"
      },
      "source": [
        ""
      ],
      "execution_count": null,
      "outputs": []
    },
    {
      "cell_type": "code",
      "metadata": {
        "colab": {
          "base_uri": "https://localhost:8080/"
        },
        "id": "8Vhvd4D6mDS8",
        "outputId": "4871bc88-65dd-4756-c580-5abff70ed89b"
      },
      "source": [
        "sgd = SGD(lr = 0.01, momentum = 0.0, decay = 0.0, nesterov = False)\n",
        "learning_rate_reduction = ReduceLROnPlateau(monitor = 'val_loss', patience= 5, verbose = 1, factor = 0.5, min_lr = 0.00001)\n",
        "checkpoint = ModelCheckpoint(\"bestmodel.model\", monitor = 'val_acc', verbose = 1, save_best_only = True )\n",
        "earlyStopping = EarlyStopping(monitor = 'val_acc', patience = 15, verbose = 1, mode = 'min')\n",
        "\n",
        "\n",
        "\n",
        "\n",
        "\n",
        "model.compile(loss = 'categorical_crossentropy', optimizer = sgd, metrics = ['acc'])\n",
        "epochs = 10\n",
        "batch_size = 128\n",
        "\n",
        "\n",
        "history = model.fit_generator(\n",
        "    train_datagen.flow(x1_train, y1_train, batch_size = batch_size),\n",
        "    steps_per_epoch = x1_train.shape[0] // batch_size, \n",
        "    epochs = epochs, \n",
        "    validation_data = test_datagen.flow(x1_test, y1_test),\n",
        "    validation_steps = x1_test.shape[0] // batch_size, \n",
        "    callbacks = [checkpoint, learning_rate_reduction]\n",
        ")\n"
      ],
      "execution_count": null,
      "outputs": [
        {
          "output_type": "stream",
          "text": [
            "/usr/local/lib/python3.7/dist-packages/tensorflow/python/keras/optimizer_v2/optimizer_v2.py:375: UserWarning: The `lr` argument is deprecated, use `learning_rate` instead.\n",
            "  \"The `lr` argument is deprecated, use `learning_rate` instead.\")\n",
            "/usr/local/lib/python3.7/dist-packages/keras/engine/training.py:1915: UserWarning: `Model.fit_generator` is deprecated and will be removed in a future version. Please use `Model.fit`, which supports generators.\n",
            "  warnings.warn('`Model.fit_generator` is deprecated and '\n"
          ],
          "name": "stderr"
        },
        {
          "output_type": "stream",
          "text": [
            "Epoch 1/10\n",
            "278/278 [==============================] - 15s 45ms/step - loss: 0.6209 - acc: 0.8640 - val_loss: 0.0877 - val_acc: 0.9860\n",
            "\n",
            "Epoch 00001: val_acc improved from -inf to 0.98597, saving model to bestmodel.model\n",
            "INFO:tensorflow:Assets written to: bestmodel.model/assets\n",
            "Epoch 2/10\n",
            "278/278 [==============================] - 13s 45ms/step - loss: 0.4429 - acc: 0.8763 - val_loss: 0.1194 - val_acc: 0.9853\n",
            "\n",
            "Epoch 00002: val_acc did not improve from 0.98597\n",
            "Epoch 3/10\n",
            "278/278 [==============================] - 12s 43ms/step - loss: 0.4304 - acc: 0.8779 - val_loss: 0.0954 - val_acc: 0.9879\n",
            "\n",
            "Epoch 00003: val_acc improved from 0.98597 to 0.98788, saving model to bestmodel.model\n",
            "INFO:tensorflow:Assets written to: bestmodel.model/assets\n",
            "Epoch 4/10\n",
            "278/278 [==============================] - 13s 45ms/step - loss: 0.4188 - acc: 0.8820 - val_loss: 0.0965 - val_acc: 0.9911\n",
            "\n",
            "Epoch 00004: val_acc improved from 0.98788 to 0.99107, saving model to bestmodel.model\n",
            "INFO:tensorflow:Assets written to: bestmodel.model/assets\n",
            "Epoch 5/10\n",
            "278/278 [==============================] - 11s 40ms/step - loss: 0.4065 - acc: 0.8864 - val_loss: 0.1074 - val_acc: 0.9841\n",
            "\n",
            "Epoch 00005: val_acc did not improve from 0.99107\n",
            "Epoch 6/10\n",
            "278/278 [==============================] - 11s 40ms/step - loss: 0.4150 - acc: 0.8808 - val_loss: 0.1120 - val_acc: 0.9860\n",
            "\n",
            "Epoch 00006: val_acc did not improve from 0.99107\n",
            "\n",
            "Epoch 00006: ReduceLROnPlateau reducing learning rate to 0.004999999888241291.\n",
            "Epoch 7/10\n",
            "278/278 [==============================] - 12s 44ms/step - loss: 0.4032 - acc: 0.8847 - val_loss: 0.1189 - val_acc: 0.9904\n",
            "\n",
            "Epoch 00007: val_acc did not improve from 0.99107\n",
            "Epoch 8/10\n",
            "232/278 [========================>.....] - ETA: 1s - loss: 0.3999 - acc: 0.8825"
          ],
          "name": "stdout"
        }
      ]
    },
    {
      "cell_type": "code",
      "metadata": {
        "id": "n8fXLD71mqib"
      },
      "source": [
        ""
      ],
      "execution_count": null,
      "outputs": []
    },
    {
      "cell_type": "code",
      "metadata": {
        "id": "dddZ89silaJp"
      },
      "source": [
        ""
      ],
      "execution_count": null,
      "outputs": []
    },
    {
      "cell_type": "code",
      "metadata": {
        "id": "I20OT0KYlGiz"
      },
      "source": [
        ""
      ],
      "execution_count": null,
      "outputs": []
    },
    {
      "cell_type": "code",
      "metadata": {
        "id": "7g4Y5D9f4P47"
      },
      "source": [
        ""
      ],
      "execution_count": null,
      "outputs": []
    },
    {
      "cell_type": "markdown",
      "metadata": {
        "id": "LIIoJP9d4PMD"
      },
      "source": [
        "Functional vs Sequential API"
      ]
    },
    {
      "cell_type": "code",
      "metadata": {
        "id": "XbUr5KEM4SxV"
      },
      "source": [
        "import tensorflow as tf"
      ],
      "execution_count": null,
      "outputs": []
    },
    {
      "cell_type": "code",
      "metadata": {
        "id": "2gas_0S54uFQ"
      },
      "source": [
        "######\n",
        "# SEQUENTIAL MODEL\n",
        "######\n",
        "\n",
        "model = tf.keras.models.Sequential()\n",
        "model.add(tf.keras.layers.Conv2D(32, 3, (1,1), padding = 'same', input_shape = (224,224,3), activation='relu'))\n",
        "model.add(tf.keras.layers.MaxPool2D(pool_size= (2,2)))\n",
        "model.add(tf.keras.layers.Dropout(0.2))\n",
        "model.add(tf.keras.layers.Conv2D(64, 3, (1,1), padding = 'same', activation='relu'))\n",
        "model.add(tf.keras.layers.MaxPool2D(pool_size= (2,2)))\n",
        "model.add(tf.keras.layers.Dropout(0.2))\n",
        "model.add(tf.keras.layers.Flatten())\n",
        "model.add(tf.keras.layers.Dense(10, activation ='softmax'))\n",
        "\n",
        "\n"
      ],
      "execution_count": null,
      "outputs": []
    },
    {
      "cell_type": "code",
      "metadata": {
        "colab": {
          "base_uri": "https://localhost:8080/"
        },
        "id": "iUqNWL0F6JAn",
        "outputId": "00ca2721-009d-4427-83d5-b819e71d8a32"
      },
      "source": [
        "model.summary()"
      ],
      "execution_count": null,
      "outputs": [
        {
          "output_type": "stream",
          "text": [
            "Model: \"sequential\"\n",
            "_________________________________________________________________\n",
            "Layer (type)                 Output Shape              Param #   \n",
            "=================================================================\n",
            "conv2d (Conv2D)              (None, 224, 224, 32)      896       \n",
            "_________________________________________________________________\n",
            "max_pooling2d (MaxPooling2D) (None, 112, 112, 32)      0         \n",
            "_________________________________________________________________\n",
            "dropout (Dropout)            (None, 112, 112, 32)      0         \n",
            "_________________________________________________________________\n",
            "conv2d_1 (Conv2D)            (None, 112, 112, 64)      18496     \n",
            "_________________________________________________________________\n",
            "max_pooling2d_1 (MaxPooling2 (None, 56, 56, 64)        0         \n",
            "_________________________________________________________________\n",
            "dropout_1 (Dropout)          (None, 56, 56, 64)        0         \n",
            "_________________________________________________________________\n",
            "flatten (Flatten)            (None, 200704)            0         \n",
            "_________________________________________________________________\n",
            "dense (Dense)                (None, 10)                2007050   \n",
            "=================================================================\n",
            "Total params: 2,026,442\n",
            "Trainable params: 2,026,442\n",
            "Non-trainable params: 0\n",
            "_________________________________________________________________\n"
          ],
          "name": "stdout"
        }
      ]
    },
    {
      "cell_type": "code",
      "metadata": {
        "id": "bSZ1bEFA6Jwp"
      },
      "source": [
        ""
      ],
      "execution_count": null,
      "outputs": []
    },
    {
      "cell_type": "code",
      "metadata": {
        "id": "fg3JH4wT4ye3"
      },
      "source": [
        "######\n",
        "# FUNCTIONAL MODEL\n",
        "######\n",
        "\n",
        "\n",
        "inp = tf.keras.layers.Input(shape = (224,224,3))\n",
        "x = tf.keras.layers.Conv2D(32, 3, (1, 1), padding = 'same', activation='relu')(inp)\n",
        "x = tf.keras.layers.MaxPool2D((2,2))(x)\n",
        "x = tf.keras.layers.Dropout(0.2)(x)\n",
        "\n",
        "x = tf.keras.layers.Conv2D(64, 3, (1,1), padding = 'same', activation='relu')(x)\n",
        "x = tf.keras.layers.MaxPool2D((2,2))(x)\n",
        "x = tf.keras.layers.Dropout(0.2)(x)\n",
        "\n",
        "x = tf.keras.layers.Flatten()(x)\n",
        "x = tf.keras.layers.Dense(10, activation= 'softmax')(x)\n",
        "\n"
      ],
      "execution_count": null,
      "outputs": []
    },
    {
      "cell_type": "code",
      "metadata": {
        "id": "V4iD41867Ngf"
      },
      "source": [
        ""
      ],
      "execution_count": null,
      "outputs": []
    },
    {
      "cell_type": "code",
      "metadata": {
        "colab": {
          "base_uri": "https://localhost:8080/"
        },
        "id": "es-pwKQJ7R0t",
        "outputId": "638c7a4f-2cd7-4149-8484-c17a21dbff4e"
      },
      "source": [
        "model.summary()"
      ],
      "execution_count": null,
      "outputs": [
        {
          "output_type": "stream",
          "text": [
            "Model: \"model_2\"\n",
            "_________________________________________________________________\n",
            "Layer (type)                 Output Shape              Param #   \n",
            "=================================================================\n",
            "input_2 (InputLayer)         [(None, 224, 224, 3)]     0         \n",
            "_________________________________________________________________\n",
            "conv2d_4 (Conv2D)            (None, 224, 224, 32)      896       \n",
            "_________________________________________________________________\n",
            "max_pooling2d_4 (MaxPooling2 (None, 112, 112, 32)      0         \n",
            "_________________________________________________________________\n",
            "dropout_4 (Dropout)          (None, 112, 112, 32)      0         \n",
            "_________________________________________________________________\n",
            "conv2d_5 (Conv2D)            (None, 112, 112, 64)      18496     \n",
            "_________________________________________________________________\n",
            "max_pooling2d_5 (MaxPooling2 (None, 56, 56, 64)        0         \n",
            "_________________________________________________________________\n",
            "dropout_5 (Dropout)          (None, 56, 56, 64)        0         \n",
            "_________________________________________________________________\n",
            "flatten_2 (Flatten)          (None, 200704)            0         \n",
            "_________________________________________________________________\n",
            "dense_2 (Dense)              (None, 10)                2007050   \n",
            "=================================================================\n",
            "Total params: 2,026,442\n",
            "Trainable params: 2,026,442\n",
            "Non-trainable params: 0\n",
            "_________________________________________________________________\n"
          ],
          "name": "stdout"
        }
      ]
    },
    {
      "cell_type": "code",
      "metadata": {
        "id": "3b42DsGj7c5e"
      },
      "source": [
        ""
      ],
      "execution_count": null,
      "outputs": []
    },
    {
      "cell_type": "code",
      "metadata": {
        "id": "GxnXSdHm4yiQ"
      },
      "source": [
        ""
      ],
      "execution_count": null,
      "outputs": []
    },
    {
      "cell_type": "markdown",
      "metadata": {
        "id": "bimnWhjoAHFE"
      },
      "source": [
        "Implementing VGG19"
      ]
    },
    {
      "cell_type": "code",
      "metadata": {
        "id": "wIX0pSW44ylo"
      },
      "source": [
        "import tensorflow as tf"
      ],
      "execution_count": null,
      "outputs": []
    },
    {
      "cell_type": "code",
      "metadata": {
        "id": "tlih0zWRBCG9"
      },
      "source": [
        "inp = tf.keras.layers.Input(shape = (224,244,3))\n",
        "x = tf.keras.layers.Conv2D(64, (3,3), 1, activation = 'relu', padding = 'same')(inp)\n",
        "x = tf.keras.layers.Conv2D(64, (3,3), 1, activation = 'relu', padding = 'same')(x)\n",
        "x = tf.keras.layers.MaxPool2D((2,2), strides = (2,2))(x)\n",
        "\n",
        "x = tf.keras.layers.Conv2D(128, (3,3), 1, activation = 'relu', padding = 'same')(x)\n",
        "x = tf.keras.layers.Conv2D(128, (3,3), 1, activation = 'relu', padding = 'same')(x)\n",
        "x = tf.keras.layers.MaxPool2D((2,2), strides = (2,2))(x)\n",
        "\n",
        "x = tf.keras.layers.Conv2D(256, (3,3), 1, activation = 'relu', padding = 'same')(x)\n",
        "x = tf.keras.layers.Conv2D(256, (3,3), 1, activation = 'relu', padding = 'same')(x)\n",
        "x = tf.keras.layers.Conv2D(256, (3,3), 1, activation = 'relu', padding = 'same')(x)\n",
        "x = tf.keras.layers.Conv2D(256, (3,3), 1, activation = 'relu', padding = 'same')(x)\n",
        "x = tf.keras.layers.MaxPool2D((2,2), strides = (2,2))(x)\n",
        "\n",
        "x = tf.keras.layers.Conv2D(512, (3,3), 1, activation = 'relu', padding = 'same')(x)\n",
        "x = tf.keras.layers.Conv2D(512, (3,3), 1, activation = 'relu', padding = 'same')(x)\n",
        "x = tf.keras.layers.Conv2D(512, (3,3), 1, activation = 'relu', padding = 'same')(x)\n",
        "x = tf.keras.layers.Conv2D(512, (3,3), 1, activation = 'relu', padding = 'same')(x)\n",
        "x = tf.keras.layers.MaxPool2D((2,2), strides = (2,2))(x)\n",
        "\n",
        "x = tf.keras.layers.Conv2D(512, (3,3), 1, activation = 'relu', padding = 'same')(x)\n",
        "x = tf.keras.layers.Conv2D(512, (3,3), 1, activation = 'relu', padding = 'same')(x)\n",
        "x = tf.keras.layers.Conv2D(512, (3,3), 1, activation = 'relu', padding = 'same')(x)\n",
        "x = tf.keras.layers.Conv2D(512, (3,3), 1, activation = 'relu', padding = 'same')(x)\n",
        "x = tf.keras.layers.MaxPool2D((2,2), strides = (2,2))(x)\n",
        "\n",
        "\n",
        "x = tf.keras.layers.Flatten()(x)\n",
        "x = tf.keras.layers.Dense(4096, activation='relu')(x)\n",
        "x = tf.keras.layers.Dense(4096, activation='relu')(x)\n",
        "x = tf.keras.layers.Dense(1000, activation='softmax')(x)"
      ],
      "execution_count": null,
      "outputs": []
    },
    {
      "cell_type": "code",
      "metadata": {
        "id": "BHYKl4cWCVPw"
      },
      "source": [
        "model = tf.keras.models.Model(inputs = [inp], outputs = [x])"
      ],
      "execution_count": null,
      "outputs": []
    },
    {
      "cell_type": "code",
      "metadata": {
        "colab": {
          "base_uri": "https://localhost:8080/"
        },
        "id": "OatrxuBNDOK8",
        "outputId": "0655144c-6584-4354-94dd-397ca42b6d71"
      },
      "source": [
        "model.summary()"
      ],
      "execution_count": null,
      "outputs": [
        {
          "output_type": "stream",
          "text": [
            "Model: \"model_1\"\n",
            "_________________________________________________________________\n",
            "Layer (type)                 Output Shape              Param #   \n",
            "=================================================================\n",
            "input_8 (InputLayer)         [(None, 224, 244, 3)]     0         \n",
            "_________________________________________________________________\n",
            "conv2d_82 (Conv2D)           (None, 224, 244, 64)      1792      \n",
            "_________________________________________________________________\n",
            "conv2d_83 (Conv2D)           (None, 224, 244, 64)      36928     \n",
            "_________________________________________________________________\n",
            "max_pooling2d_21 (MaxPooling (None, 112, 122, 64)      0         \n",
            "_________________________________________________________________\n",
            "conv2d_84 (Conv2D)           (None, 112, 122, 128)     73856     \n",
            "_________________________________________________________________\n",
            "conv2d_85 (Conv2D)           (None, 112, 122, 128)     147584    \n",
            "_________________________________________________________________\n",
            "max_pooling2d_22 (MaxPooling (None, 56, 61, 128)       0         \n",
            "_________________________________________________________________\n",
            "conv2d_86 (Conv2D)           (None, 56, 61, 256)       295168    \n",
            "_________________________________________________________________\n",
            "conv2d_87 (Conv2D)           (None, 56, 61, 256)       590080    \n",
            "_________________________________________________________________\n",
            "conv2d_88 (Conv2D)           (None, 56, 61, 256)       590080    \n",
            "_________________________________________________________________\n",
            "conv2d_89 (Conv2D)           (None, 56, 61, 256)       590080    \n",
            "_________________________________________________________________\n",
            "max_pooling2d_23 (MaxPooling (None, 28, 30, 256)       0         \n",
            "_________________________________________________________________\n",
            "conv2d_90 (Conv2D)           (None, 28, 30, 512)       1180160   \n",
            "_________________________________________________________________\n",
            "conv2d_91 (Conv2D)           (None, 28, 30, 512)       2359808   \n",
            "_________________________________________________________________\n",
            "conv2d_92 (Conv2D)           (None, 28, 30, 512)       2359808   \n",
            "_________________________________________________________________\n",
            "conv2d_93 (Conv2D)           (None, 28, 30, 512)       2359808   \n",
            "_________________________________________________________________\n",
            "max_pooling2d_24 (MaxPooling (None, 14, 15, 512)       0         \n",
            "_________________________________________________________________\n",
            "conv2d_94 (Conv2D)           (None, 14, 15, 512)       2359808   \n",
            "_________________________________________________________________\n",
            "conv2d_95 (Conv2D)           (None, 14, 15, 512)       2359808   \n",
            "_________________________________________________________________\n",
            "conv2d_96 (Conv2D)           (None, 14, 15, 512)       2359808   \n",
            "_________________________________________________________________\n",
            "conv2d_97 (Conv2D)           (None, 14, 15, 512)       2359808   \n",
            "_________________________________________________________________\n",
            "max_pooling2d_25 (MaxPooling (None, 7, 7, 512)         0         \n",
            "_________________________________________________________________\n",
            "flatten (Flatten)            (None, 25088)             0         \n",
            "_________________________________________________________________\n",
            "dense_3 (Dense)              (None, 4096)              102764544 \n",
            "_________________________________________________________________\n",
            "dense_4 (Dense)              (None, 4096)              16781312  \n",
            "_________________________________________________________________\n",
            "dense_5 (Dense)              (None, 1000)              4097000   \n",
            "=================================================================\n",
            "Total params: 143,667,240\n",
            "Trainable params: 143,667,240\n",
            "Non-trainable params: 0\n",
            "_________________________________________________________________\n"
          ],
          "name": "stdout"
        }
      ]
    },
    {
      "cell_type": "code",
      "metadata": {
        "id": "m343q3pbDPcQ"
      },
      "source": [
        ""
      ],
      "execution_count": null,
      "outputs": []
    },
    {
      "cell_type": "markdown",
      "metadata": {
        "id": "J5KCl2HvFof8"
      },
      "source": [
        "GoogleNet/Inception"
      ]
    },
    {
      "cell_type": "code",
      "metadata": {
        "id": "E9B5ZWhBFp7t"
      },
      "source": [
        ""
      ],
      "execution_count": null,
      "outputs": []
    },
    {
      "cell_type": "code",
      "metadata": {
        "id": "KgeiMufsF1AE"
      },
      "source": [
        "import tensorflow as tf\n",
        "\n",
        "CLASSES = 1000"
      ],
      "execution_count": null,
      "outputs": []
    },
    {
      "cell_type": "code",
      "metadata": {
        "id": "eIroCVMDqn9A"
      },
      "source": [
        "def inception(x, filters):\n",
        "\n",
        "  path1 = tf.keras.layers.Conv2D(filters[0], (1,1), strides = 1, padding = 'same', activation = 'relu')(x)\n",
        "\n",
        "  path2 = tf.keras.layers.Conv2D(filters[1][0], (1,1), strides = 1, padding = 'same', activation = 'relu')(x)\n",
        "  path2 = tf.keras.layers.Conv2D(filters[1][1], (3,3), strides = 1, padding = 'same', activation = 'relu')(x)\n",
        "\n",
        "  path3 = tf.keras.layers.Conv2D(filters[2][0], (1,1), strides = 1, padding = 'same', activation = 'relu')(x)\n",
        "  path3 = tf.keras.layers.Conv2D( filters[2][1], (5,5), strides = 1, padding = 'same', activation = 'relu')(x)\n",
        "\n",
        "  path4 = tf.keras.layers.MaxPool2D((3,3), strides = 1, padding = 'same')(x)\n",
        "  path4 = tf.keras.layers.Conv2D(filters[3], (1,1), strides = 1, padding = 'same', activation = 'relu')(path4)\n",
        "\n",
        "  return tf.keras.layers.Concatenate(axis = -1)([path1, path2, path3, path4])"
      ],
      "execution_count": null,
      "outputs": []
    },
    {
      "cell_type": "code",
      "metadata": {
        "id": "F2GVyWQ2qn5Q"
      },
      "source": [
        "def auxiliary(x):\n",
        "\n",
        "  layer = tf.keras.layers.AveragePooling2D((5,5), strides = 3, padding = 'valid')(x)\n",
        "  layer = tf.keras.layers.Conv2D( 128 , (1,1), 1, 'same', activation = 'relu')(layer)\n",
        "  layer = tf.keras.layers.Dense(1024, activation = 'relu')(layer)\n",
        "  layer = tf.keras.layers.Dropout(0.7)(layer)\n",
        "  layer = tf.keras.layers.Dense(CLASSES, activation = 'softmax')(layer)\n",
        "  return layer"
      ],
      "execution_count": null,
      "outputs": []
    },
    {
      "cell_type": "code",
      "metadata": {
        "id": "UZKHaXYBqn2s"
      },
      "source": [
        "inp = tf.keras.layers.Input(shape = (224,224,3))\n",
        "x = tf.keras.layers.Conv2D(64, (7,7), strides = 2, padding = 'same')(inp)\n",
        "x = tf.keras.layers.MaxPool2D((3,3), strides = 2)(x)\n",
        "x = tf.keras.layers.BatchNormalization()(x)\n",
        "\n",
        "x = tf.keras.layers.Conv2D(192, (1,1), strides = 1, padding = 'valid', activation = 'relu')(x)\n",
        "x = tf.keras.layers.Conv2D(192, (3,3), strides = 1, padding = 'same', activation = 'relu')(x)\n",
        "x = tf.keras.layers.BatchNormalization()(x)\n",
        "x = tf.keras.layers.MaxPool2D((3,3), strides = 2, padding = 'same')(x)\n",
        "\n",
        "x = inception(x, [64, [96, 128], [16,32], 32])\n",
        "x = inception(x, [128, [128, 192], [32, 96], 64])\n",
        "x = tf.keras.layers.MaxPool2D((3,3), strides = 2, padding ='same')(x)\n",
        "x = inception(x, [192, [96, 208], [16,48], 64])\n",
        "softmax0 = auxiliary(x)\n",
        "x = inception(x, [160, [112,224], [24,64], 64])\n",
        "x = inception(x, [128, [128, 256], [24,64], 64])\n",
        "x = inception(x, [112, [144,288], [32,64], 64])\n",
        "x = inception(x, [256, [160,320], [32,128], 128])\n",
        "\n",
        "softmax1 = auxiliary(x)\n",
        "\n",
        "x = tf.keras.layers.MaxPool2D((3,3), 2, padding = 'same')(x)\n",
        "x = inception(x, [256, [160, 320], [32, 128], 128])\n",
        "x = inception(x, [384, [192, 384], [48, 128], 128])\n",
        "\n",
        "x = tf.keras.layers.AveragePooling2D((7,7), 1, padding = 'valid')(x)\n",
        "x = tf.keras.layers.Flatten()(x)\n",
        "main = tf.keras.layers.Dense(CLASSES,  activation = 'softmax')(x)\n",
        "\n",
        "\n",
        "model = tf.keras.models.Model(inputs = [inp], outputs = [softmax0, softmax1, main])"
      ],
      "execution_count": null,
      "outputs": []
    },
    {
      "cell_type": "code",
      "metadata": {
        "colab": {
          "base_uri": "https://localhost:8080/"
        },
        "id": "f1V2rMOa1TxB",
        "outputId": "6e7358b9-8b99-48a6-8c5b-00b5c4ec8aa9"
      },
      "source": [
        "model.summary()"
      ],
      "execution_count": null,
      "outputs": [
        {
          "output_type": "stream",
          "text": [
            "Model: \"model\"\n",
            "__________________________________________________________________________________________________\n",
            "Layer (type)                    Output Shape         Param #     Connected to                     \n",
            "==================================================================================================\n",
            "input_6 (InputLayer)            [(None, 224, 224, 3) 0                                            \n",
            "__________________________________________________________________________________________________\n",
            "conv2d_151 (Conv2D)             (None, 112, 112, 64) 9472        input_6[0][0]                    \n",
            "__________________________________________________________________________________________________\n",
            "max_pooling2d_36 (MaxPooling2D) (None, 55, 55, 64)   0           conv2d_151[0][0]                 \n",
            "__________________________________________________________________________________________________\n",
            "batch_normalization_10 (BatchNo (None, 55, 55, 64)   256         max_pooling2d_36[0][0]           \n",
            "__________________________________________________________________________________________________\n",
            "conv2d_152 (Conv2D)             (None, 55, 55, 192)  12480       batch_normalization_10[0][0]     \n",
            "__________________________________________________________________________________________________\n",
            "conv2d_153 (Conv2D)             (None, 55, 55, 192)  331968      conv2d_152[0][0]                 \n",
            "__________________________________________________________________________________________________\n",
            "batch_normalization_11 (BatchNo (None, 55, 55, 192)  768         conv2d_153[0][0]                 \n",
            "__________________________________________________________________________________________________\n",
            "max_pooling2d_37 (MaxPooling2D) (None, 28, 28, 192)  0           batch_normalization_11[0][0]     \n",
            "__________________________________________________________________________________________________\n",
            "max_pooling2d_38 (MaxPooling2D) (None, 28, 28, 192)  0           max_pooling2d_37[0][0]           \n",
            "__________________________________________________________________________________________________\n",
            "conv2d_154 (Conv2D)             (None, 28, 28, 64)   12352       max_pooling2d_37[0][0]           \n",
            "__________________________________________________________________________________________________\n",
            "conv2d_156 (Conv2D)             (None, 28, 28, 128)  221312      max_pooling2d_37[0][0]           \n",
            "__________________________________________________________________________________________________\n",
            "conv2d_158 (Conv2D)             (None, 28, 28, 32)   153632      max_pooling2d_37[0][0]           \n",
            "__________________________________________________________________________________________________\n",
            "conv2d_159 (Conv2D)             (None, 28, 28, 32)   6176        max_pooling2d_38[0][0]           \n",
            "__________________________________________________________________________________________________\n",
            "concatenate_22 (Concatenate)    (None, 28, 28, 256)  0           conv2d_154[0][0]                 \n",
            "                                                                 conv2d_156[0][0]                 \n",
            "                                                                 conv2d_158[0][0]                 \n",
            "                                                                 conv2d_159[0][0]                 \n",
            "__________________________________________________________________________________________________\n",
            "max_pooling2d_39 (MaxPooling2D) (None, 28, 28, 256)  0           concatenate_22[0][0]             \n",
            "__________________________________________________________________________________________________\n",
            "conv2d_160 (Conv2D)             (None, 28, 28, 128)  32896       concatenate_22[0][0]             \n",
            "__________________________________________________________________________________________________\n",
            "conv2d_162 (Conv2D)             (None, 28, 28, 192)  442560      concatenate_22[0][0]             \n",
            "__________________________________________________________________________________________________\n",
            "conv2d_164 (Conv2D)             (None, 28, 28, 96)   614496      concatenate_22[0][0]             \n",
            "__________________________________________________________________________________________________\n",
            "conv2d_165 (Conv2D)             (None, 28, 28, 64)   16448       max_pooling2d_39[0][0]           \n",
            "__________________________________________________________________________________________________\n",
            "concatenate_23 (Concatenate)    (None, 28, 28, 480)  0           conv2d_160[0][0]                 \n",
            "                                                                 conv2d_162[0][0]                 \n",
            "                                                                 conv2d_164[0][0]                 \n",
            "                                                                 conv2d_165[0][0]                 \n",
            "__________________________________________________________________________________________________\n",
            "max_pooling2d_40 (MaxPooling2D) (None, 14, 14, 480)  0           concatenate_23[0][0]             \n",
            "__________________________________________________________________________________________________\n",
            "max_pooling2d_41 (MaxPooling2D) (None, 14, 14, 480)  0           max_pooling2d_40[0][0]           \n",
            "__________________________________________________________________________________________________\n",
            "conv2d_166 (Conv2D)             (None, 14, 14, 192)  92352       max_pooling2d_40[0][0]           \n",
            "__________________________________________________________________________________________________\n",
            "conv2d_168 (Conv2D)             (None, 14, 14, 208)  898768      max_pooling2d_40[0][0]           \n",
            "__________________________________________________________________________________________________\n",
            "conv2d_170 (Conv2D)             (None, 14, 14, 48)   576048      max_pooling2d_40[0][0]           \n",
            "__________________________________________________________________________________________________\n",
            "conv2d_171 (Conv2D)             (None, 14, 14, 64)   30784       max_pooling2d_41[0][0]           \n",
            "__________________________________________________________________________________________________\n",
            "concatenate_24 (Concatenate)    (None, 14, 14, 512)  0           conv2d_166[0][0]                 \n",
            "                                                                 conv2d_168[0][0]                 \n",
            "                                                                 conv2d_170[0][0]                 \n",
            "                                                                 conv2d_171[0][0]                 \n",
            "__________________________________________________________________________________________________\n",
            "max_pooling2d_42 (MaxPooling2D) (None, 14, 14, 512)  0           concatenate_24[0][0]             \n",
            "__________________________________________________________________________________________________\n",
            "conv2d_173 (Conv2D)             (None, 14, 14, 160)  82080       concatenate_24[0][0]             \n",
            "__________________________________________________________________________________________________\n",
            "conv2d_175 (Conv2D)             (None, 14, 14, 224)  1032416     concatenate_24[0][0]             \n",
            "__________________________________________________________________________________________________\n",
            "conv2d_177 (Conv2D)             (None, 14, 14, 64)   819264      concatenate_24[0][0]             \n",
            "__________________________________________________________________________________________________\n",
            "conv2d_178 (Conv2D)             (None, 14, 14, 64)   32832       max_pooling2d_42[0][0]           \n",
            "__________________________________________________________________________________________________\n",
            "concatenate_25 (Concatenate)    (None, 14, 14, 512)  0           conv2d_173[0][0]                 \n",
            "                                                                 conv2d_175[0][0]                 \n",
            "                                                                 conv2d_177[0][0]                 \n",
            "                                                                 conv2d_178[0][0]                 \n",
            "__________________________________________________________________________________________________\n",
            "max_pooling2d_43 (MaxPooling2D) (None, 14, 14, 512)  0           concatenate_25[0][0]             \n",
            "__________________________________________________________________________________________________\n",
            "conv2d_179 (Conv2D)             (None, 14, 14, 128)  65664       concatenate_25[0][0]             \n",
            "__________________________________________________________________________________________________\n",
            "conv2d_181 (Conv2D)             (None, 14, 14, 256)  1179904     concatenate_25[0][0]             \n",
            "__________________________________________________________________________________________________\n",
            "conv2d_183 (Conv2D)             (None, 14, 14, 64)   819264      concatenate_25[0][0]             \n",
            "__________________________________________________________________________________________________\n",
            "conv2d_184 (Conv2D)             (None, 14, 14, 64)   32832       max_pooling2d_43[0][0]           \n",
            "__________________________________________________________________________________________________\n",
            "concatenate_26 (Concatenate)    (None, 14, 14, 512)  0           conv2d_179[0][0]                 \n",
            "                                                                 conv2d_181[0][0]                 \n",
            "                                                                 conv2d_183[0][0]                 \n",
            "                                                                 conv2d_184[0][0]                 \n",
            "__________________________________________________________________________________________________\n",
            "max_pooling2d_44 (MaxPooling2D) (None, 14, 14, 512)  0           concatenate_26[0][0]             \n",
            "__________________________________________________________________________________________________\n",
            "conv2d_185 (Conv2D)             (None, 14, 14, 112)  57456       concatenate_26[0][0]             \n",
            "__________________________________________________________________________________________________\n",
            "conv2d_187 (Conv2D)             (None, 14, 14, 288)  1327392     concatenate_26[0][0]             \n",
            "__________________________________________________________________________________________________\n",
            "conv2d_189 (Conv2D)             (None, 14, 14, 64)   819264      concatenate_26[0][0]             \n",
            "__________________________________________________________________________________________________\n",
            "conv2d_190 (Conv2D)             (None, 14, 14, 64)   32832       max_pooling2d_44[0][0]           \n",
            "__________________________________________________________________________________________________\n",
            "concatenate_27 (Concatenate)    (None, 14, 14, 528)  0           conv2d_185[0][0]                 \n",
            "                                                                 conv2d_187[0][0]                 \n",
            "                                                                 conv2d_189[0][0]                 \n",
            "                                                                 conv2d_190[0][0]                 \n",
            "__________________________________________________________________________________________________\n",
            "max_pooling2d_45 (MaxPooling2D) (None, 14, 14, 528)  0           concatenate_27[0][0]             \n",
            "__________________________________________________________________________________________________\n",
            "conv2d_191 (Conv2D)             (None, 14, 14, 256)  135424      concatenate_27[0][0]             \n",
            "__________________________________________________________________________________________________\n",
            "conv2d_193 (Conv2D)             (None, 14, 14, 320)  1520960     concatenate_27[0][0]             \n",
            "__________________________________________________________________________________________________\n",
            "conv2d_195 (Conv2D)             (None, 14, 14, 128)  1689728     concatenate_27[0][0]             \n",
            "__________________________________________________________________________________________________\n",
            "conv2d_196 (Conv2D)             (None, 14, 14, 128)  67712       max_pooling2d_45[0][0]           \n",
            "__________________________________________________________________________________________________\n",
            "concatenate_28 (Concatenate)    (None, 14, 14, 832)  0           conv2d_191[0][0]                 \n",
            "                                                                 conv2d_193[0][0]                 \n",
            "                                                                 conv2d_195[0][0]                 \n",
            "                                                                 conv2d_196[0][0]                 \n",
            "__________________________________________________________________________________________________\n",
            "max_pooling2d_46 (MaxPooling2D) (None, 7, 7, 832)    0           concatenate_28[0][0]             \n",
            "__________________________________________________________________________________________________\n",
            "max_pooling2d_47 (MaxPooling2D) (None, 7, 7, 832)    0           max_pooling2d_46[0][0]           \n",
            "__________________________________________________________________________________________________\n",
            "conv2d_198 (Conv2D)             (None, 7, 7, 256)    213248      max_pooling2d_46[0][0]           \n",
            "__________________________________________________________________________________________________\n",
            "conv2d_200 (Conv2D)             (None, 7, 7, 320)    2396480     max_pooling2d_46[0][0]           \n",
            "__________________________________________________________________________________________________\n",
            "conv2d_202 (Conv2D)             (None, 7, 7, 128)    2662528     max_pooling2d_46[0][0]           \n",
            "__________________________________________________________________________________________________\n",
            "conv2d_203 (Conv2D)             (None, 7, 7, 128)    106624      max_pooling2d_47[0][0]           \n",
            "__________________________________________________________________________________________________\n",
            "concatenate_29 (Concatenate)    (None, 7, 7, 832)    0           conv2d_198[0][0]                 \n",
            "                                                                 conv2d_200[0][0]                 \n",
            "                                                                 conv2d_202[0][0]                 \n",
            "                                                                 conv2d_203[0][0]                 \n",
            "__________________________________________________________________________________________________\n",
            "max_pooling2d_48 (MaxPooling2D) (None, 7, 7, 832)    0           concatenate_29[0][0]             \n",
            "__________________________________________________________________________________________________\n",
            "average_pooling2d_6 (AveragePoo (None, 4, 4, 512)    0           concatenate_24[0][0]             \n",
            "__________________________________________________________________________________________________\n",
            "average_pooling2d_7 (AveragePoo (None, 4, 4, 832)    0           concatenate_28[0][0]             \n",
            "__________________________________________________________________________________________________\n",
            "conv2d_204 (Conv2D)             (None, 7, 7, 384)    319872      concatenate_29[0][0]             \n",
            "__________________________________________________________________________________________________\n",
            "conv2d_206 (Conv2D)             (None, 7, 7, 384)    2875776     concatenate_29[0][0]             \n",
            "__________________________________________________________________________________________________\n",
            "conv2d_208 (Conv2D)             (None, 7, 7, 128)    2662528     concatenate_29[0][0]             \n",
            "__________________________________________________________________________________________________\n",
            "conv2d_209 (Conv2D)             (None, 7, 7, 128)    106624      max_pooling2d_48[0][0]           \n",
            "__________________________________________________________________________________________________\n",
            "conv2d_172 (Conv2D)             (None, 4, 4, 128)    65664       average_pooling2d_6[0][0]        \n",
            "__________________________________________________________________________________________________\n",
            "conv2d_197 (Conv2D)             (None, 4, 4, 128)    106624      average_pooling2d_7[0][0]        \n",
            "__________________________________________________________________________________________________\n",
            "concatenate_30 (Concatenate)    (None, 7, 7, 1024)   0           conv2d_204[0][0]                 \n",
            "                                                                 conv2d_206[0][0]                 \n",
            "                                                                 conv2d_208[0][0]                 \n",
            "                                                                 conv2d_209[0][0]                 \n",
            "__________________________________________________________________________________________________\n",
            "dense_9 (Dense)                 (None, 4, 4, 1024)   132096      conv2d_172[0][0]                 \n",
            "__________________________________________________________________________________________________\n",
            "dense_11 (Dense)                (None, 4, 4, 1024)   132096      conv2d_197[0][0]                 \n",
            "__________________________________________________________________________________________________\n",
            "average_pooling2d_8 (AveragePoo (None, 1, 1, 1024)   0           concatenate_30[0][0]             \n",
            "__________________________________________________________________________________________________\n",
            "dropout_4 (Dropout)             (None, 4, 4, 1024)   0           dense_9[0][0]                    \n",
            "__________________________________________________________________________________________________\n",
            "dropout_5 (Dropout)             (None, 4, 4, 1024)   0           dense_11[0][0]                   \n",
            "__________________________________________________________________________________________________\n",
            "flatten_2 (Flatten)             (None, 1024)         0           average_pooling2d_8[0][0]        \n",
            "__________________________________________________________________________________________________\n",
            "dense_10 (Dense)                (None, 4, 4, 1000)   1025000     dropout_4[0][0]                  \n",
            "__________________________________________________________________________________________________\n",
            "dense_12 (Dense)                (None, 4, 4, 1000)   1025000     dropout_5[0][0]                  \n",
            "__________________________________________________________________________________________________\n",
            "dense_13 (Dense)                (None, 1000)         1025000     flatten_2[0][0]                  \n",
            "==================================================================================================\n",
            "Total params: 28,022,952\n",
            "Trainable params: 28,022,440\n",
            "Non-trainable params: 512\n",
            "__________________________________________________________________________________________________\n"
          ],
          "name": "stdout"
        }
      ]
    },
    {
      "cell_type": "code",
      "metadata": {
        "id": "rY13Js4Uqnz6"
      },
      "source": [
        ""
      ],
      "execution_count": null,
      "outputs": []
    },
    {
      "cell_type": "code",
      "metadata": {
        "id": "K7Yx5Sv5qnxc"
      },
      "source": [
        ""
      ],
      "execution_count": null,
      "outputs": []
    }
  ]
}